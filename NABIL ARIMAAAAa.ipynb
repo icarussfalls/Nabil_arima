{
 "cells": [
  {
   "cell_type": "code",
   "execution_count": 1,
   "id": "df97739c",
   "metadata": {},
   "outputs": [],
   "source": [
    "from IPython.core.debugger import set_trace\n",
    "\n",
    "import pandas as pd\n",
    "import numpy as np\n",
    "import os\n",
    "import matplotlib.pyplot as plt\n",
    "import time\n",
    "\n",
    "import statsmodels.api as sm\n",
    "plt.style.use(style='seaborn')\n",
    "%matplotlib inline"
   ]
  },
  {
   "cell_type": "code",
   "execution_count": 36,
   "id": "00a7611d",
   "metadata": {},
   "outputs": [],
   "source": [
    "df = pd.read_csv('/home/icarus/Downloads/NABIL.csv', index_col = 'Date', parse_dates=True)"
   ]
  },
  {
   "cell_type": "code",
   "execution_count": 3,
   "id": "84c9e374",
   "metadata": {},
   "outputs": [
    {
     "data": {
      "text/html": [
       "<div>\n",
       "<style scoped>\n",
       "    .dataframe tbody tr th:only-of-type {\n",
       "        vertical-align: middle;\n",
       "    }\n",
       "\n",
       "    .dataframe tbody tr th {\n",
       "        vertical-align: top;\n",
       "    }\n",
       "\n",
       "    .dataframe thead th {\n",
       "        text-align: right;\n",
       "    }\n",
       "</style>\n",
       "<table border=\"1\" class=\"dataframe\">\n",
       "  <thead>\n",
       "    <tr style=\"text-align: right;\">\n",
       "      <th></th>\n",
       "      <th>Price</th>\n",
       "      <th>Change</th>\n",
       "      <th>Max Price</th>\n",
       "      <th>Min Price</th>\n",
       "      <th>Prev Price</th>\n",
       "      <th>Transaction</th>\n",
       "      <th>Volume</th>\n",
       "      <th>Amount</th>\n",
       "    </tr>\n",
       "    <tr>\n",
       "      <th>Date</th>\n",
       "      <th></th>\n",
       "      <th></th>\n",
       "      <th></th>\n",
       "      <th></th>\n",
       "      <th></th>\n",
       "      <th></th>\n",
       "      <th></th>\n",
       "      <th></th>\n",
       "    </tr>\n",
       "  </thead>\n",
       "  <tbody>\n",
       "    <tr>\n",
       "      <th>2019-03-31</th>\n",
       "      <td>712.0</td>\n",
       "      <td>-2.0</td>\n",
       "      <td>717.0</td>\n",
       "      <td>707.0</td>\n",
       "      <td>714.0</td>\n",
       "      <td>71</td>\n",
       "      <td>7019</td>\n",
       "      <td>4989640</td>\n",
       "    </tr>\n",
       "    <tr>\n",
       "      <th>2019-04-01</th>\n",
       "      <td>712.0</td>\n",
       "      <td>0.0</td>\n",
       "      <td>714.0</td>\n",
       "      <td>709.0</td>\n",
       "      <td>712.0</td>\n",
       "      <td>62</td>\n",
       "      <td>11973</td>\n",
       "      <td>8520110</td>\n",
       "    </tr>\n",
       "    <tr>\n",
       "      <th>2019-04-02</th>\n",
       "      <td>717.0</td>\n",
       "      <td>5.0</td>\n",
       "      <td>718.0</td>\n",
       "      <td>710.0</td>\n",
       "      <td>712.0</td>\n",
       "      <td>86</td>\n",
       "      <td>15403</td>\n",
       "      <td>10998100</td>\n",
       "    </tr>\n",
       "    <tr>\n",
       "      <th>2019-04-03</th>\n",
       "      <td>724.0</td>\n",
       "      <td>7.0</td>\n",
       "      <td>731.0</td>\n",
       "      <td>712.0</td>\n",
       "      <td>717.0</td>\n",
       "      <td>77</td>\n",
       "      <td>14196</td>\n",
       "      <td>10232000</td>\n",
       "    </tr>\n",
       "    <tr>\n",
       "      <th>2019-04-04</th>\n",
       "      <td>727.0</td>\n",
       "      <td>3.0</td>\n",
       "      <td>728.0</td>\n",
       "      <td>718.0</td>\n",
       "      <td>724.0</td>\n",
       "      <td>69</td>\n",
       "      <td>8188</td>\n",
       "      <td>5926770</td>\n",
       "    </tr>\n",
       "  </tbody>\n",
       "</table>\n",
       "</div>"
      ],
      "text/plain": [
       "            Price  Change  Max Price  Min Price  Prev Price  Transaction  \\\n",
       "Date                                                                       \n",
       "2019-03-31  712.0    -2.0      717.0      707.0       714.0           71   \n",
       "2019-04-01  712.0     0.0      714.0      709.0       712.0           62   \n",
       "2019-04-02  717.0     5.0      718.0      710.0       712.0           86   \n",
       "2019-04-03  724.0     7.0      731.0      712.0       717.0           77   \n",
       "2019-04-04  727.0     3.0      728.0      718.0       724.0           69   \n",
       "\n",
       "            Volume    Amount  \n",
       "Date                          \n",
       "2019-03-31    7019   4989640  \n",
       "2019-04-01   11973   8520110  \n",
       "2019-04-02   15403  10998100  \n",
       "2019-04-03   14196  10232000  \n",
       "2019-04-04    8188   5926770  "
      ]
     },
     "execution_count": 3,
     "metadata": {},
     "output_type": "execute_result"
    }
   ],
   "source": [
    "df.head(5)"
   ]
  },
  {
   "cell_type": "code",
   "execution_count": 4,
   "id": "c0e14e26",
   "metadata": {},
   "outputs": [],
   "source": [
    "df= df[['Price']].copy()"
   ]
  },
  {
   "cell_type": "code",
   "execution_count": 5,
   "id": "6f111932",
   "metadata": {},
   "outputs": [
    {
     "data": {
      "text/html": [
       "<div>\n",
       "<style scoped>\n",
       "    .dataframe tbody tr th:only-of-type {\n",
       "        vertical-align: middle;\n",
       "    }\n",
       "\n",
       "    .dataframe tbody tr th {\n",
       "        vertical-align: top;\n",
       "    }\n",
       "\n",
       "    .dataframe thead th {\n",
       "        text-align: right;\n",
       "    }\n",
       "</style>\n",
       "<table border=\"1\" class=\"dataframe\">\n",
       "  <thead>\n",
       "    <tr style=\"text-align: right;\">\n",
       "      <th></th>\n",
       "      <th>Price</th>\n",
       "    </tr>\n",
       "  </thead>\n",
       "  <tbody>\n",
       "    <tr>\n",
       "      <th>count</th>\n",
       "      <td>730.000000</td>\n",
       "    </tr>\n",
       "    <tr>\n",
       "      <th>mean</th>\n",
       "      <td>1026.346164</td>\n",
       "    </tr>\n",
       "    <tr>\n",
       "      <th>std</th>\n",
       "      <td>269.070615</td>\n",
       "    </tr>\n",
       "    <tr>\n",
       "      <th>min</th>\n",
       "      <td>660.000000</td>\n",
       "    </tr>\n",
       "    <tr>\n",
       "      <th>25%</th>\n",
       "      <td>791.225000</td>\n",
       "    </tr>\n",
       "    <tr>\n",
       "      <th>50%</th>\n",
       "      <td>898.800000</td>\n",
       "    </tr>\n",
       "    <tr>\n",
       "      <th>75%</th>\n",
       "      <td>1284.750000</td>\n",
       "    </tr>\n",
       "    <tr>\n",
       "      <th>max</th>\n",
       "      <td>1653.000000</td>\n",
       "    </tr>\n",
       "  </tbody>\n",
       "</table>\n",
       "</div>"
      ],
      "text/plain": [
       "             Price\n",
       "count   730.000000\n",
       "mean   1026.346164\n",
       "std     269.070615\n",
       "min     660.000000\n",
       "25%     791.225000\n",
       "50%     898.800000\n",
       "75%    1284.750000\n",
       "max    1653.000000"
      ]
     },
     "execution_count": 5,
     "metadata": {},
     "output_type": "execute_result"
    }
   ],
   "source": [
    "df.describe()"
   ]
  },
  {
   "cell_type": "code",
   "execution_count": 6,
   "id": "b6a8e7dc",
   "metadata": {},
   "outputs": [
    {
     "name": "stdout",
     "output_type": "stream",
     "text": [
      "ADF Statistics: -1.2076105811956734\n",
      "p-value: 0.6703132932765512\n"
     ]
    }
   ],
   "source": [
    "from statsmodels.tsa.stattools import adfuller\n",
    "result = adfuller(df.dropna())\n",
    "print(f'ADF Statistics: {result[0]}')\n",
    "print(f'p-value: {result[1]}')\n"
   ]
  },
  {
   "cell_type": "code",
   "execution_count": 7,
   "id": "bafb1ad8",
   "metadata": {},
   "outputs": [],
   "source": [
    "# p value is greater than 0.05 so we need to do differencing to make data stationary"
   ]
  },
  {
   "cell_type": "code",
   "execution_count": null,
   "id": "100e3ff3",
   "metadata": {},
   "outputs": [],
   "source": []
  },
  {
   "cell_type": "code",
   "execution_count": 8,
   "id": "09a83fb0",
   "metadata": {},
   "outputs": [],
   "source": [
    "from pmdarima.arima import utils"
   ]
  },
  {
   "cell_type": "code",
   "execution_count": 9,
   "id": "89656179",
   "metadata": {},
   "outputs": [
    {
     "data": {
      "text/plain": [
       "1"
      ]
     },
     "execution_count": 9,
     "metadata": {},
     "output_type": "execute_result"
    }
   ],
   "source": [
    "utils.ndiffs(df.Price)"
   ]
  },
  {
   "cell_type": "code",
   "execution_count": 10,
   "id": "f73348aa",
   "metadata": {},
   "outputs": [],
   "source": [
    "# p is the order of the auto-regressive term\n",
    "from statsmodels.graphics.tsaplots import plot_pacf"
   ]
  },
  {
   "cell_type": "code",
   "execution_count": 11,
   "id": "fbb0e234",
   "metadata": {},
   "outputs": [
    {
     "name": "stderr",
     "output_type": "stream",
     "text": [
      "/home/icarus/.local/lib/python3.10/site-packages/statsmodels/graphics/tsaplots.py:348: FutureWarning: The default method 'yw' can produce PACF values outside of the [-1,1] interval. After 0.13, the default will change tounadjusted Yule-Walker ('ywm'). You can use this method now by setting method='ywm'.\n",
      "  warnings.warn(\n"
     ]
    },
    {
     "data": {
      "image/png": "[encoded data removed]",
      "text/plain": [
       "<Figure size 1152x576 with 2 Axes>"
      ]
     },
     "metadata": {
      "needs_background": "light"
     },
     "output_type": "display_data"
    }
   ],
   "source": [
    "diff = df.Price.diff().dropna()\n",
    "\n",
    "fig, (ax1, ax2) = plt.subplots(1,2, figsize = (16,8))\n",
    "\n",
    "ax1.plot(diff)\n",
    "ax1.set_title(\"Difference once\")\n",
    "ax2.set_ylim(0,1)\n",
    "plot_pacf(diff, ax= ax2);"
   ]
  },
  {
   "cell_type": "code",
   "execution_count": 12,
   "id": "73a29dba",
   "metadata": {},
   "outputs": [],
   "source": [
    "#use 18 as p as it stands out\n",
    "from statsmodels.graphics.tsaplots import plot_acf"
   ]
  },
  {
   "cell_type": "code",
   "execution_count": 13,
   "id": "bb2a038e",
   "metadata": {},
   "outputs": [
    {
     "data": {
      "image/png": "[encoded data removed]",
      "text/plain": [
       "<Figure size 1152x576 with 2 Axes>"
      ]
     },
     "metadata": {
      "needs_background": "light"
     },
     "output_type": "display_data"
    }
   ],
   "source": [
    "diff = df.Price.diff().dropna()\n",
    "\n",
    "fig, (ax1, ax2) = plt.subplots(1,2, figsize = (16,8))\n",
    "\n",
    "ax1.plot(diff)\n",
    "ax1.set_title(\"Difference once\")\n",
    "ax2.set_ylim(0,1)\n",
    "plot_acf(diff, ax= ax2);"
   ]
  },
  {
   "cell_type": "code",
   "execution_count": 14,
   "id": "bbf7e7ed",
   "metadata": {},
   "outputs": [],
   "source": [
    "#use q = 1"
   ]
  },
  {
   "cell_type": "code",
   "execution_count": 15,
   "id": "fe764423",
   "metadata": {},
   "outputs": [
    {
     "name": "stderr",
     "output_type": "stream",
     "text": [
      "/home/icarus/.local/lib/python3.10/site-packages/statsmodels/tsa/base/tsa_model.py:471: ValueWarning: A date index has been provided, but it has no associated frequency information and so will be ignored when e.g. forecasting.\n",
      "  self._init_dates(dates, freq)\n",
      "/home/icarus/.local/lib/python3.10/site-packages/statsmodels/tsa/base/tsa_model.py:471: ValueWarning: A date index has been provided, but it has no associated frequency information and so will be ignored when e.g. forecasting.\n",
      "  self._init_dates(dates, freq)\n",
      "/home/icarus/.local/lib/python3.10/site-packages/statsmodels/tsa/base/tsa_model.py:471: ValueWarning: A date index has been provided, but it has no associated frequency information and so will be ignored when e.g. forecasting.\n",
      "  self._init_dates(dates, freq)\n",
      "/home/icarus/.local/lib/python3.10/site-packages/statsmodels/base/model.py:604: ConvergenceWarning: Maximum Likelihood optimization failed to converge. Check mle_retvals\n",
      "  warnings.warn(\"Maximum Likelihood optimization failed to \"\n"
     ]
    }
   ],
   "source": [
    "from statsmodels.tsa.arima.model import ARIMA\n",
    "#arima model\n",
    "model = ARIMA(df.Price, order = (4,1,3))\n",
    "result = model.fit()\n"
   ]
  },
  {
   "cell_type": "code",
   "execution_count": 16,
   "id": "97b4669a",
   "metadata": {},
   "outputs": [
    {
     "name": "stdout",
     "output_type": "stream",
     "text": [
      "                               SARIMAX Results                                \n",
      "==============================================================================\n",
      "Dep. Variable:                  Price   No. Observations:                  730\n",
      "Model:                 ARIMA(4, 1, 3)   Log Likelihood               -3384.494\n",
      "Date:                Tue, 05 Jul 2022   AIC                           6784.988\n",
      "Time:                        17:38:34   BIC                           6821.721\n",
      "Sample:                             0   HQIC                          6799.161\n",
      "                                - 730                                         \n",
      "Covariance Type:                  opg                                         \n",
      "==============================================================================\n",
      "                 coef    std err          z      P>|z|      [0.025      0.975]\n",
      "------------------------------------------------------------------------------\n",
      "ar.L1          1.5444      0.143     10.834      0.000       1.265       1.824\n",
      "ar.L2         -1.4570      0.188     -7.745      0.000      -1.826      -1.088\n",
      "ar.L3          0.9265      0.169      5.490      0.000       0.596       1.257\n",
      "ar.L4         -0.1864      0.026     -7.093      0.000      -0.238      -0.135\n",
      "ma.L1         -1.4212      0.144     -9.849      0.000      -1.704      -1.138\n",
      "ma.L2          1.2488      0.188      6.635      0.000       0.880       1.618\n",
      "ma.L3         -0.6747      0.165     -4.093      0.000      -0.998      -0.352\n",
      "sigma2       630.9610     14.306     44.104      0.000     602.921     659.001\n",
      "===================================================================================\n",
      "Ljung-Box (L1) (Q):                   0.00   Jarque-Bera (JB):             60352.79\n",
      "Prob(Q):                              0.97   Prob(JB):                         0.00\n",
      "Heteroskedasticity (H):               3.32   Skew:                            -3.03\n",
      "Prob(H) (two-sided):                  0.00   Kurtosis:                        47.16\n",
      "===================================================================================\n",
      "\n",
      "Warnings:\n",
      "[1] Covariance matrix calculated using the outer product of gradients (complex-step).\n"
     ]
    }
   ],
   "source": [
    "print(result.summary())"
   ]
  },
  {
   "cell_type": "code",
   "execution_count": 17,
   "id": "470f1a94",
   "metadata": {},
   "outputs": [
    {
     "data": {
      "text/plain": [
       "(array([2.72001841e-05, 0.00000000e+00, 7.54805108e-03, 2.31201565e-03,\n",
       "        2.72001841e-05, 0.00000000e+00, 0.00000000e+00, 0.00000000e+00,\n",
       "        0.00000000e+00, 1.36000920e-05]),\n",
       " array([-295.24539967, -194.5208597 ,  -93.79631974,    6.92822023,\n",
       "         107.6527602 ,  208.37730016,  309.10184013,  409.8263801 ,\n",
       "         510.55092007,  611.27546003,  712.        ]),\n",
       " <BarContainer object of 10 artists>)"
      ]
     },
     "execution_count": 17,
     "metadata": {},
     "output_type": "execute_result"
    },
    {
     "data": {
      "image/png": "[encoded data removed]",
      "text/plain": [
       "<Figure size 1152x288 with 2 Axes>"
      ]
     },
     "metadata": {
      "needs_background": "light"
     },
     "output_type": "display_data"
    }
   ],
   "source": [
    "residuals = pd.DataFrame(result.resid)\n",
    "\n",
    "fig, (ax1, ax2) = plt.subplots(1,2, figsize = (16,4))\n",
    "ax1.plot(residuals)\n",
    "ax2.hist(residuals,density=True)"
   ]
  },
  {
   "cell_type": "code",
   "execution_count": 20,
   "id": "fc39a906",
   "metadata": {},
   "outputs": [],
   "source": [
    "from statsmodels.graphics.tsaplots import plot_predict"
   ]
  },
  {
   "cell_type": "code",
   "execution_count": 31,
   "id": "174b6e2b",
   "metadata": {},
   "outputs": [
    {
     "data": {
      "text/plain": [
       "<AxesSubplot:xlabel='Date'>"
      ]
     },
     "execution_count": 31,
     "metadata": {},
     "output_type": "execute_result"
    },
    {
     "data": {
      "image/png": "[encoded data removed]",
      "text/plain": [
       "<Figure size 1152x288 with 1 Axes>"
      ]
     },
     "metadata": {
      "needs_background": "light"
     },
     "output_type": "display_data"
    }
   ],
   "source": [
    "#actual vs fitted\n",
    "df['forecast']= result.predict(start=1, end=60, dynamic=False)\n",
    "df[['Price', 'forecast']].plot(figsize=(16,4))"
   ]
  },
  {
   "cell_type": "code",
   "execution_count": 43,
   "id": "28dfdbfd",
   "metadata": {},
   "outputs": [],
   "source": [
    "#train tes split\n",
    "n = int(len(df)) *0.8\n",
    "train = df.Price[:int(n)]\n",
    "test = df.Price[int(n):]"
   ]
  },
  {
   "cell_type": "code",
   "execution_count": 44,
   "id": "1b59f3e9",
   "metadata": {},
   "outputs": [
    {
     "name": "stdout",
     "output_type": "stream",
     "text": [
      "584\n",
      "146\n"
     ]
    }
   ],
   "source": [
    "print(len(train))\n",
    "print(len(test))"
   ]
  },
  {
   "cell_type": "code",
   "execution_count": 45,
   "id": "76ad0bb7",
   "metadata": {},
   "outputs": [
    {
     "data": {
      "text/html": [
       "<table class=\"simpletable\">\n",
       "<caption>SARIMAX Results</caption>\n",
       "<tr>\n",
       "  <th>Dep. Variable:</th>         <td>Price</td>      <th>  No. Observations:  </th>    <td>730</td>   \n",
       "</tr>\n",
       "<tr>\n",
       "  <th>Model:</th>            <td>ARIMA(4, 1, 3)</td>  <th>  Log Likelihood     </th> <td>-3384.494</td>\n",
       "</tr>\n",
       "<tr>\n",
       "  <th>Date:</th>            <td>Tue, 05 Jul 2022</td> <th>  AIC                </th> <td>6784.988</td> \n",
       "</tr>\n",
       "<tr>\n",
       "  <th>Time:</th>                <td>18:01:59</td>     <th>  BIC                </th> <td>6821.721</td> \n",
       "</tr>\n",
       "<tr>\n",
       "  <th>Sample:</th>                  <td>0</td>        <th>  HQIC               </th> <td>6799.161</td> \n",
       "</tr>\n",
       "<tr>\n",
       "  <th></th>                      <td> - 730</td>      <th>                     </th>     <td> </td>    \n",
       "</tr>\n",
       "<tr>\n",
       "  <th>Covariance Type:</th>        <td>opg</td>       <th>                     </th>     <td> </td>    \n",
       "</tr>\n",
       "</table>\n",
       "<table class=\"simpletable\">\n",
       "<tr>\n",
       "     <td></td>       <th>coef</th>     <th>std err</th>      <th>z</th>      <th>P>|z|</th>  <th>[0.025</th>    <th>0.975]</th>  \n",
       "</tr>\n",
       "<tr>\n",
       "  <th>ar.L1</th>  <td>    1.5444</td> <td>    0.143</td> <td>   10.834</td> <td> 0.000</td> <td>    1.265</td> <td>    1.824</td>\n",
       "</tr>\n",
       "<tr>\n",
       "  <th>ar.L2</th>  <td>   -1.4570</td> <td>    0.188</td> <td>   -7.745</td> <td> 0.000</td> <td>   -1.826</td> <td>   -1.088</td>\n",
       "</tr>\n",
       "<tr>\n",
       "  <th>ar.L3</th>  <td>    0.9265</td> <td>    0.169</td> <td>    5.490</td> <td> 0.000</td> <td>    0.596</td> <td>    1.257</td>\n",
       "</tr>\n",
       "<tr>\n",
       "  <th>ar.L4</th>  <td>   -0.1864</td> <td>    0.026</td> <td>   -7.093</td> <td> 0.000</td> <td>   -0.238</td> <td>   -0.135</td>\n",
       "</tr>\n",
       "<tr>\n",
       "  <th>ma.L1</th>  <td>   -1.4212</td> <td>    0.144</td> <td>   -9.849</td> <td> 0.000</td> <td>   -1.704</td> <td>   -1.138</td>\n",
       "</tr>\n",
       "<tr>\n",
       "  <th>ma.L2</th>  <td>    1.2488</td> <td>    0.188</td> <td>    6.635</td> <td> 0.000</td> <td>    0.880</td> <td>    1.618</td>\n",
       "</tr>\n",
       "<tr>\n",
       "  <th>ma.L3</th>  <td>   -0.6747</td> <td>    0.165</td> <td>   -4.093</td> <td> 0.000</td> <td>   -0.998</td> <td>   -0.352</td>\n",
       "</tr>\n",
       "<tr>\n",
       "  <th>sigma2</th> <td>  630.9610</td> <td>   14.306</td> <td>   44.104</td> <td> 0.000</td> <td>  602.921</td> <td>  659.001</td>\n",
       "</tr>\n",
       "</table>\n",
       "<table class=\"simpletable\">\n",
       "<tr>\n",
       "  <th>Ljung-Box (L1) (Q):</th>     <td>0.00</td> <th>  Jarque-Bera (JB):  </th> <td>60352.79</td>\n",
       "</tr>\n",
       "<tr>\n",
       "  <th>Prob(Q):</th>                <td>0.97</td> <th>  Prob(JB):          </th>   <td>0.00</td>  \n",
       "</tr>\n",
       "<tr>\n",
       "  <th>Heteroskedasticity (H):</th> <td>3.32</td> <th>  Skew:              </th>   <td>-3.03</td> \n",
       "</tr>\n",
       "<tr>\n",
       "  <th>Prob(H) (two-sided):</th>    <td>0.00</td> <th>  Kurtosis:          </th>   <td>47.16</td> \n",
       "</tr>\n",
       "</table><br/><br/>Warnings:<br/>[1] Covariance matrix calculated using the outer product of gradients (complex-step)."
      ],
      "text/plain": [
       "<class 'statsmodels.iolib.summary.Summary'>\n",
       "\"\"\"\n",
       "                               SARIMAX Results                                \n",
       "==============================================================================\n",
       "Dep. Variable:                  Price   No. Observations:                  730\n",
       "Model:                 ARIMA(4, 1, 3)   Log Likelihood               -3384.494\n",
       "Date:                Tue, 05 Jul 2022   AIC                           6784.988\n",
       "Time:                        18:01:59   BIC                           6821.721\n",
       "Sample:                             0   HQIC                          6799.161\n",
       "                                - 730                                         \n",
       "Covariance Type:                  opg                                         \n",
       "==============================================================================\n",
       "                 coef    std err          z      P>|z|      [0.025      0.975]\n",
       "------------------------------------------------------------------------------\n",
       "ar.L1          1.5444      0.143     10.834      0.000       1.265       1.824\n",
       "ar.L2         -1.4570      0.188     -7.745      0.000      -1.826      -1.088\n",
       "ar.L3          0.9265      0.169      5.490      0.000       0.596       1.257\n",
       "ar.L4         -0.1864      0.026     -7.093      0.000      -0.238      -0.135\n",
       "ma.L1         -1.4212      0.144     -9.849      0.000      -1.704      -1.138\n",
       "ma.L2          1.2488      0.188      6.635      0.000       0.880       1.618\n",
       "ma.L3         -0.6747      0.165     -4.093      0.000      -0.998      -0.352\n",
       "sigma2       630.9610     14.306     44.104      0.000     602.921     659.001\n",
       "===================================================================================\n",
       "Ljung-Box (L1) (Q):                   0.00   Jarque-Bera (JB):             60352.79\n",
       "Prob(Q):                              0.97   Prob(JB):                         0.00\n",
       "Heteroskedasticity (H):               3.32   Skew:                            -3.03\n",
       "Prob(H) (two-sided):                  0.00   Kurtosis:                        47.16\n",
       "===================================================================================\n",
       "\n",
       "Warnings:\n",
       "[1] Covariance matrix calculated using the outer product of gradients (complex-step).\n",
       "\"\"\""
      ]
     },
     "execution_count": 45,
     "metadata": {},
     "output_type": "execute_result"
    }
   ],
   "source": [
    "result.summary()"
   ]
  },
  {
   "cell_type": "code",
   "execution_count": 81,
   "id": "dcff266f",
   "metadata": {},
   "outputs": [
    {
     "name": "stderr",
     "output_type": "stream",
     "text": [
      "/home/icarus/.local/lib/python3.10/site-packages/statsmodels/tsa/base/tsa_model.py:834: ValueWarning: No supported index is available. Prediction results will be given with an integer index beginning at `start`.\n",
      "  return get_prediction_index(\n"
     ]
    }
   ],
   "source": [
    "step = 30\n",
    "fc = result.forecast(step)\n",
    "conf =result.conf_int(alpha=0.05)\n"
   ]
  },
  {
   "cell_type": "code",
   "execution_count": 82,
   "id": "17945eaa",
   "metadata": {},
   "outputs": [
    {
     "data": {
      "text/plain": [
       "array([896.86124043, 897.83209302, 894.48464573, 888.50644466,\n",
       "       884.70333093, 884.2572349 , 884.19416821, 882.33729398,\n",
       "       879.85696453, 878.75641834, 878.96174424, 878.93029351,\n",
       "       878.02519607, 877.0685564 , 876.84238675, 877.05412468,\n",
       "       876.99299782, 876.55885931, 876.21577083, 876.22231846,\n",
       "       876.34144339, 876.27891881, 876.07881248, 875.97001505,\n",
       "       876.01339739, 876.06515877, 876.01838756, 875.93121438,\n",
       "       875.90459939, 875.93751895])"
      ]
     },
     "execution_count": 82,
     "metadata": {},
     "output_type": "execute_result"
    }
   ],
   "source": [
    "fc = np.array(fc)\n",
    "fc"
   ]
  },
  {
   "cell_type": "code",
   "execution_count": 85,
   "id": "422b9e22",
   "metadata": {},
   "outputs": [
    {
     "data": {
      "text/html": [
       "<div>\n",
       "<style scoped>\n",
       "    .dataframe tbody tr th:only-of-type {\n",
       "        vertical-align: middle;\n",
       "    }\n",
       "\n",
       "    .dataframe tbody tr th {\n",
       "        vertical-align: top;\n",
       "    }\n",
       "\n",
       "    .dataframe thead th {\n",
       "        text-align: right;\n",
       "    }\n",
       "</style>\n",
       "<table border=\"1\" class=\"dataframe\">\n",
       "  <thead>\n",
       "    <tr style=\"text-align: right;\">\n",
       "      <th></th>\n",
       "      <th>0</th>\n",
       "      <th>1</th>\n",
       "    </tr>\n",
       "  </thead>\n",
       "  <tbody>\n",
       "    <tr>\n",
       "      <th>ar.L1</th>\n",
       "      <td>1.265023</td>\n",
       "      <td>1.823801</td>\n",
       "    </tr>\n",
       "    <tr>\n",
       "      <th>ar.L2</th>\n",
       "      <td>-1.825655</td>\n",
       "      <td>-1.088261</td>\n",
       "    </tr>\n",
       "    <tr>\n",
       "      <th>ar.L3</th>\n",
       "      <td>0.595736</td>\n",
       "      <td>1.257345</td>\n",
       "    </tr>\n",
       "    <tr>\n",
       "      <th>ar.L4</th>\n",
       "      <td>-0.237900</td>\n",
       "      <td>-0.134895</td>\n",
       "    </tr>\n",
       "    <tr>\n",
       "      <th>ma.L1</th>\n",
       "      <td>-1.704076</td>\n",
       "      <td>-1.138399</td>\n",
       "    </tr>\n",
       "    <tr>\n",
       "      <th>ma.L2</th>\n",
       "      <td>0.879868</td>\n",
       "      <td>1.617696</td>\n",
       "    </tr>\n",
       "    <tr>\n",
       "      <th>ma.L3</th>\n",
       "      <td>-0.997804</td>\n",
       "      <td>-0.351590</td>\n",
       "    </tr>\n",
       "    <tr>\n",
       "      <th>sigma2</th>\n",
       "      <td>602.921383</td>\n",
       "      <td>659.000587</td>\n",
       "    </tr>\n",
       "  </tbody>\n",
       "</table>\n",
       "</div>"
      ],
      "text/plain": [
       "                 0           1\n",
       "ar.L1     1.265023    1.823801\n",
       "ar.L2    -1.825655   -1.088261\n",
       "ar.L3     0.595736    1.257345\n",
       "ar.L4    -0.237900   -0.134895\n",
       "ma.L1    -1.704076   -1.138399\n",
       "ma.L2     0.879868    1.617696\n",
       "ma.L3    -0.997804   -0.351590\n",
       "sigma2  602.921383  659.000587"
      ]
     },
     "execution_count": 85,
     "metadata": {},
     "output_type": "execute_result"
    }
   ],
   "source": []
  },
  {
   "cell_type": "code",
   "execution_count": 92,
   "id": "576d4a18",
   "metadata": {},
   "outputs": [
    {
     "name": "stdout",
     "output_type": "stream",
     "text": [
      "2022-07-04    896.861240\n",
      "2022-07-05    897.832093\n",
      "2022-07-06    894.484646\n",
      "2022-07-07    888.506445\n",
      "2022-07-08    884.703331\n",
      "                 ...    \n",
      "2022-08-29    875.882192\n",
      "2022-08-30    875.882415\n",
      "2022-08-31    875.882889\n",
      "2022-09-01    875.882894\n",
      "2022-09-02    875.882526\n",
      "Freq: D, Name: Arima Predictions, Length: 61, dtype: float64\n"
     ]
    },
    {
     "name": "stderr",
     "output_type": "stream",
     "text": [
      "/home/icarus/.local/lib/python3.10/site-packages/statsmodels/tsa/base/tsa_model.py:834: ValueWarning: No supported index is available. Prediction results will be given with an integer index beginning at `start`.\n",
      "  return get_prediction_index(\n"
     ]
    }
   ],
   "source": [
    "index_future_dates = pd.date_range(start='2022-07-04', end ='2022-09-02')\n",
    "pred = result.predict(start=len(df.Price), end = len(df.Price)+60, type = 'levels').rename('Arima Predictions')\n",
    "\n",
    "pred.index = index_future_dates\n",
    "print(pred)"
   ]
  },
  {
   "cell_type": "code",
   "execution_count": null,
   "id": "bf59cae0",
   "metadata": {},
   "outputs": [],
   "source": []
  }
 ],
 "metadata": {
  "kernelspec": {
   "display_name": "Python 3 (ipykernel)",
   "language": "python",
   "name": "python3"
  },
  "language_info": {
   "codemirror_mode": {
    "name": "ipython",
    "version": 3
   },
   "file_extension": ".py",
   "mimetype": "text/x-python",
   "name": "python",
   "nbconvert_exporter": "python",
   "pygments_lexer": "ipython3",
   "version": "3.10.4"
  }
 },
 "nbformat": 4,
 "nbformat_minor": 5
}
