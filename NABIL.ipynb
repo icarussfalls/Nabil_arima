{
 "cells": [
  {
   "cell_type": "code",
   "execution_count": 1,
   "id": "a7cbdb99",
   "metadata": {},
   "outputs": [],
   "source": [
    "import pandas as pd\n",
    "import numpy as np\n",
    "import csv\n",
    "import statsmodels.api as sm"
   ]
  },
  {
   "cell_type": "code",
   "execution_count": 2,
   "id": "d6b653d6",
   "metadata": {},
   "outputs": [
    {
     "name": "stdout",
     "output_type": "stream",
     "text": [
      "Shape of data (730, 8)\n"
     ]
    },
    {
     "data": {
      "text/html": [
       "<div>\n",
       "<style scoped>\n",
       "    .dataframe tbody tr th:only-of-type {\n",
       "        vertical-align: middle;\n",
       "    }\n",
       "\n",
       "    .dataframe tbody tr th {\n",
       "        vertical-align: top;\n",
       "    }\n",
       "\n",
       "    .dataframe thead th {\n",
       "        text-align: right;\n",
       "    }\n",
       "</style>\n",
       "<table border=\"1\" class=\"dataframe\">\n",
       "  <thead>\n",
       "    <tr style=\"text-align: right;\">\n",
       "      <th></th>\n",
       "      <th>Price</th>\n",
       "      <th>Change</th>\n",
       "      <th>Max Price</th>\n",
       "      <th>Min Price</th>\n",
       "      <th>Prev Price</th>\n",
       "      <th>Transaction</th>\n",
       "      <th>Volume</th>\n",
       "      <th>Amount</th>\n",
       "    </tr>\n",
       "    <tr>\n",
       "      <th>Date</th>\n",
       "      <th></th>\n",
       "      <th></th>\n",
       "      <th></th>\n",
       "      <th></th>\n",
       "      <th></th>\n",
       "      <th></th>\n",
       "      <th></th>\n",
       "      <th></th>\n",
       "    </tr>\n",
       "  </thead>\n",
       "  <tbody>\n",
       "    <tr>\n",
       "      <th>2019-03-31</th>\n",
       "      <td>712.0</td>\n",
       "      <td>-2.0</td>\n",
       "      <td>717.0</td>\n",
       "      <td>707.0</td>\n",
       "      <td>714.0</td>\n",
       "      <td>71</td>\n",
       "      <td>7019</td>\n",
       "      <td>4989640</td>\n",
       "    </tr>\n",
       "    <tr>\n",
       "      <th>2019-04-01</th>\n",
       "      <td>712.0</td>\n",
       "      <td>0.0</td>\n",
       "      <td>714.0</td>\n",
       "      <td>709.0</td>\n",
       "      <td>712.0</td>\n",
       "      <td>62</td>\n",
       "      <td>11973</td>\n",
       "      <td>8520110</td>\n",
       "    </tr>\n",
       "    <tr>\n",
       "      <th>2019-04-02</th>\n",
       "      <td>717.0</td>\n",
       "      <td>5.0</td>\n",
       "      <td>718.0</td>\n",
       "      <td>710.0</td>\n",
       "      <td>712.0</td>\n",
       "      <td>86</td>\n",
       "      <td>15403</td>\n",
       "      <td>10998100</td>\n",
       "    </tr>\n",
       "    <tr>\n",
       "      <th>2019-04-03</th>\n",
       "      <td>724.0</td>\n",
       "      <td>7.0</td>\n",
       "      <td>731.0</td>\n",
       "      <td>712.0</td>\n",
       "      <td>717.0</td>\n",
       "      <td>77</td>\n",
       "      <td>14196</td>\n",
       "      <td>10232000</td>\n",
       "    </tr>\n",
       "    <tr>\n",
       "      <th>2019-04-04</th>\n",
       "      <td>727.0</td>\n",
       "      <td>3.0</td>\n",
       "      <td>728.0</td>\n",
       "      <td>718.0</td>\n",
       "      <td>724.0</td>\n",
       "      <td>69</td>\n",
       "      <td>8188</td>\n",
       "      <td>5926770</td>\n",
       "    </tr>\n",
       "  </tbody>\n",
       "</table>\n",
       "</div>"
      ],
      "text/plain": [
       "            Price  Change  Max Price  Min Price  Prev Price  Transaction  \\\n",
       "Date                                                                       \n",
       "2019-03-31  712.0    -2.0      717.0      707.0       714.0           71   \n",
       "2019-04-01  712.0     0.0      714.0      709.0       712.0           62   \n",
       "2019-04-02  717.0     5.0      718.0      710.0       712.0           86   \n",
       "2019-04-03  724.0     7.0      731.0      712.0       717.0           77   \n",
       "2019-04-04  727.0     3.0      728.0      718.0       724.0           69   \n",
       "\n",
       "            Volume    Amount  \n",
       "Date                          \n",
       "2019-03-31    7019   4989640  \n",
       "2019-04-01   11973   8520110  \n",
       "2019-04-02   15403  10998100  \n",
       "2019-04-03   14196  10232000  \n",
       "2019-04-04    8188   5926770  "
      ]
     },
     "execution_count": 2,
     "metadata": {},
     "output_type": "execute_result"
    }
   ],
   "source": [
    "df = pd.read_csv(r'/home/icarus/Downloads/NABIL.csv', index_col = 'Date', parse_dates=True)\n",
    "print('Shape of data', df.shape)\n",
    "df.head()"
   ]
  },
  {
   "cell_type": "code",
   "execution_count": 3,
   "id": "1869e8c4",
   "metadata": {},
   "outputs": [
    {
     "data": {
      "text/plain": [
       "<AxesSubplot:xlabel='Date'>"
      ]
     },
     "execution_count": 3,
     "metadata": {},
     "output_type": "execute_result"
    },
    {
     "data": {
      "image/png": "[encoded data removed]",
      "text/plain": [
       "<Figure size 864x360 with 1 Axes>"
      ]
     },
     "metadata": {
      "needs_background": "light"
     },
     "output_type": "display_data"
    }
   ],
   "source": [
    "df['Price'].plot(figsize=(12,5))"
   ]
  },
  {
   "cell_type": "code",
   "execution_count": 4,
   "id": "32c0b6a4",
   "metadata": {},
   "outputs": [],
   "source": [
    "from statsmodels.tsa.stattools import adfuller\n",
    "\n",
    "def ad_test(dataset):\n",
    "    dftest= adfuller(dataset, autolag = 'AIC')\n",
    "    print(\"1. ADF: \", dftest[0])\n",
    "    print(\"2. p-value: \", dftest[1])\n",
    "    print(\"3. Num of lags: \", dftest[2])\n",
    "    print(\"4. Num of observations used for ADF regression and Critical values calculations: \", dftest[3])\n",
    "    print(\"5. Critical value: \", dftest[4])\n",
    "    for key, val in dftest[4].items():\n",
    "        print('\\t',key, \": \", val)\n",
    "        "
   ]
  },
  {
   "cell_type": "code",
   "execution_count": 5,
   "id": "4112a9fb",
   "metadata": {},
   "outputs": [
    {
     "name": "stdout",
     "output_type": "stream",
     "text": [
      "1. ADF:  -1.2076105811956734\n",
      "2. p-value:  0.6703132932765512\n",
      "3. Num of lags:  18\n",
      "4. Num of observations used for ADF regression and Critical values calculations:  711\n",
      "5. Critical value:  {'1%': -3.439580754053961, '5%': -2.865613606467485, '10%': -2.568939269723711}\n",
      "\t 1% :  -3.439580754053961\n",
      "\t 5% :  -2.865613606467485\n",
      "\t 10% :  -2.568939269723711\n"
     ]
    }
   ],
   "source": [
    "ad_test(df['Price'])"
   ]
  },
  {
   "cell_type": "code",
   "execution_count": 6,
   "id": "409682be",
   "metadata": {},
   "outputs": [],
   "source": [
    "#data set is not stationary due to high p-value"
   ]
  },
  {
   "cell_type": "code",
   "execution_count": 7,
   "id": "0a788bff",
   "metadata": {},
   "outputs": [],
   "source": [
    "#we need to seperate trend and seasonality as the data is non-stationary"
   ]
  },
  {
   "cell_type": "code",
   "execution_count": null,
   "id": "943a9e71",
   "metadata": {},
   "outputs": [],
   "source": []
  },
  {
   "cell_type": "code",
   "execution_count": null,
   "id": "03e149e2",
   "metadata": {},
   "outputs": [],
   "source": []
  },
  {
   "cell_type": "code",
   "execution_count": 8,
   "id": "d2c144d2",
   "metadata": {},
   "outputs": [],
   "source": [
    "from pmdarima import auto_arima\n",
    "import warnings\n",
    "warnings.filterwarnings(\"ignore\")"
   ]
  },
  {
   "cell_type": "code",
   "execution_count": 9,
   "id": "56a825bc",
   "metadata": {},
   "outputs": [
    {
     "name": "stdout",
     "output_type": "stream",
     "text": [
      "Performing stepwise search to minimize aic\n",
      " ARIMA(2,1,2)(0,0,0)[0] intercept   : AIC=6789.743, Time=2.07 sec\n",
      " ARIMA(0,1,0)(0,0,0)[0] intercept   : AIC=6799.455, Time=0.05 sec\n",
      " ARIMA(1,1,0)(0,0,0)[0] intercept   : AIC=6789.809, Time=0.12 sec\n",
      " ARIMA(0,1,1)(0,0,0)[0] intercept   : AIC=6788.880, Time=0.22 sec\n",
      " ARIMA(0,1,0)(0,0,0)[0]             : AIC=6797.525, Time=0.02 sec\n",
      " ARIMA(1,1,1)(0,0,0)[0] intercept   : AIC=6790.115, Time=0.17 sec\n",
      " ARIMA(0,1,2)(0,0,0)[0] intercept   : AIC=6790.197, Time=0.17 sec\n",
      " ARIMA(1,1,2)(0,0,0)[0] intercept   : AIC=6792.102, Time=0.49 sec\n",
      " ARIMA(0,1,1)(0,0,0)[0]             : AIC=6786.935, Time=0.15 sec\n",
      " ARIMA(1,1,1)(0,0,0)[0]             : AIC=6788.171, Time=0.12 sec\n",
      " ARIMA(0,1,2)(0,0,0)[0]             : AIC=6788.254, Time=0.17 sec\n",
      " ARIMA(1,1,0)(0,0,0)[0]             : AIC=6787.864, Time=0.05 sec\n",
      " ARIMA(1,1,2)(0,0,0)[0]             : AIC=6790.160, Time=0.39 sec\n",
      "\n",
      "Best model:  ARIMA(0,1,1)(0,0,0)[0]          \n",
      "Total fit time: 4.193 seconds\n"
     ]
    },
    {
     "data": {
      "text/html": [
       "<table class=\"simpletable\">\n",
       "<caption>SARIMAX Results</caption>\n",
       "<tr>\n",
       "  <th>Dep. Variable:</th>           <td>y</td>        <th>  No. Observations:  </th>    <td>730</td>   \n",
       "</tr>\n",
       "<tr>\n",
       "  <th>Model:</th>           <td>SARIMAX(0, 1, 1)</td> <th>  Log Likelihood     </th> <td>-3391.467</td>\n",
       "</tr>\n",
       "<tr>\n",
       "  <th>Date:</th>            <td>Mon, 04 Jul 2022</td> <th>  AIC                </th> <td>6786.935</td> \n",
       "</tr>\n",
       "<tr>\n",
       "  <th>Time:</th>                <td>22:38:02</td>     <th>  BIC                </th> <td>6796.118</td> \n",
       "</tr>\n",
       "<tr>\n",
       "  <th>Sample:</th>                  <td>0</td>        <th>  HQIC               </th> <td>6790.478</td> \n",
       "</tr>\n",
       "<tr>\n",
       "  <th></th>                      <td> - 730</td>      <th>                     </th>     <td> </td>    \n",
       "</tr>\n",
       "<tr>\n",
       "  <th>Covariance Type:</th>        <td>opg</td>       <th>                     </th>     <td> </td>    \n",
       "</tr>\n",
       "</table>\n",
       "<table class=\"simpletable\">\n",
       "<tr>\n",
       "     <td></td>       <th>coef</th>     <th>std err</th>      <th>z</th>      <th>P>|z|</th>  <th>[0.025</th>    <th>0.975]</th>  \n",
       "</tr>\n",
       "<tr>\n",
       "  <th>ma.L1</th>  <td>    0.1364</td> <td>    0.023</td> <td>    5.929</td> <td> 0.000</td> <td>    0.091</td> <td>    0.181</td>\n",
       "</tr>\n",
       "<tr>\n",
       "  <th>sigma2</th> <td>  643.2452</td> <td>    6.700</td> <td>   96.010</td> <td> 0.000</td> <td>  630.114</td> <td>  656.377</td>\n",
       "</tr>\n",
       "</table>\n",
       "<table class=\"simpletable\">\n",
       "<tr>\n",
       "  <th>Ljung-Box (L1) (Q):</th>     <td>0.01</td> <th>  Jarque-Bera (JB):  </th> <td>81040.28</td>\n",
       "</tr>\n",
       "<tr>\n",
       "  <th>Prob(Q):</th>                <td>0.91</td> <th>  Prob(JB):          </th>   <td>0.00</td>  \n",
       "</tr>\n",
       "<tr>\n",
       "  <th>Heteroskedasticity (H):</th> <td>3.24</td> <th>  Skew:              </th>   <td>-3.62</td> \n",
       "</tr>\n",
       "<tr>\n",
       "  <th>Prob(H) (two-sided):</th>    <td>0.00</td> <th>  Kurtosis:          </th>   <td>54.14</td> \n",
       "</tr>\n",
       "</table><br/><br/>Warnings:<br/>[1] Covariance matrix calculated using the outer product of gradients (complex-step)."
      ],
      "text/plain": [
       "<class 'statsmodels.iolib.summary.Summary'>\n",
       "\"\"\"\n",
       "                               SARIMAX Results                                \n",
       "==============================================================================\n",
       "Dep. Variable:                      y   No. Observations:                  730\n",
       "Model:               SARIMAX(0, 1, 1)   Log Likelihood               -3391.467\n",
       "Date:                Mon, 04 Jul 2022   AIC                           6786.935\n",
       "Time:                        22:38:02   BIC                           6796.118\n",
       "Sample:                             0   HQIC                          6790.478\n",
       "                                - 730                                         \n",
       "Covariance Type:                  opg                                         \n",
       "==============================================================================\n",
       "                 coef    std err          z      P>|z|      [0.025      0.975]\n",
       "------------------------------------------------------------------------------\n",
       "ma.L1          0.1364      0.023      5.929      0.000       0.091       0.181\n",
       "sigma2       643.2452      6.700     96.010      0.000     630.114     656.377\n",
       "===================================================================================\n",
       "Ljung-Box (L1) (Q):                   0.01   Jarque-Bera (JB):             81040.28\n",
       "Prob(Q):                              0.91   Prob(JB):                         0.00\n",
       "Heteroskedasticity (H):               3.24   Skew:                            -3.62\n",
       "Prob(H) (two-sided):                  0.00   Kurtosis:                        54.14\n",
       "===================================================================================\n",
       "\n",
       "Warnings:\n",
       "[1] Covariance matrix calculated using the outer product of gradients (complex-step).\n",
       "\"\"\""
      ]
     },
     "execution_count": 9,
     "metadata": {},
     "output_type": "execute_result"
    }
   ],
   "source": [
    "stepwise_fit = auto_arima(df['Price'], trace = True, supress_warnings= True)\n",
    "stepwise_fit.summary()"
   ]
  },
  {
   "cell_type": "code",
   "execution_count": 22,
   "id": "44ea47cf",
   "metadata": {},
   "outputs": [],
   "source": [
    "from statsmodels.tsa.arima_model import ARIMA"
   ]
  },
  {
   "cell_type": "code",
   "execution_count": 11,
   "id": "0b82a110",
   "metadata": {},
   "outputs": [
    {
     "name": "stdout",
     "output_type": "stream",
     "text": [
      "(730, 8)\n",
      "(700, 8) (30, 8)\n"
     ]
    }
   ],
   "source": [
    "print(df.shape)\n",
    "train= df.iloc[:-30]\n",
    "test = df.iloc[-30:]\n",
    "print(train.shape,test.shape)"
   ]
  },
  {
   "cell_type": "code",
   "execution_count": 23,
   "id": "76236c0b",
   "metadata": {},
   "outputs": [
    {
     "data": {
      "text/html": [
       "<table class=\"simpletable\">\n",
       "<caption>SARIMAX Results</caption>\n",
       "<tr>\n",
       "  <th>Dep. Variable:</th>         <td>Price</td>      <th>  No. Observations:  </th>    <td>700</td>   \n",
       "</tr>\n",
       "<tr>\n",
       "  <th>Model:</th>            <td>ARIMA(1, 1, 14)</td> <th>  Log Likelihood     </th> <td>-3250.435</td>\n",
       "</tr>\n",
       "<tr>\n",
       "  <th>Date:</th>            <td>Tue, 05 Jul 2022</td> <th>  AIC                </th> <td>6532.870</td> \n",
       "</tr>\n",
       "<tr>\n",
       "  <th>Time:</th>                <td>12:29:21</td>     <th>  BIC                </th> <td>6605.664</td> \n",
       "</tr>\n",
       "<tr>\n",
       "  <th>Sample:</th>                  <td>0</td>        <th>  HQIC               </th> <td>6561.011</td> \n",
       "</tr>\n",
       "<tr>\n",
       "  <th></th>                      <td> - 700</td>      <th>                     </th>     <td> </td>    \n",
       "</tr>\n",
       "<tr>\n",
       "  <th>Covariance Type:</th>        <td>opg</td>       <th>                     </th>     <td> </td>    \n",
       "</tr>\n",
       "</table>\n",
       "<table class=\"simpletable\">\n",
       "<tr>\n",
       "     <td></td>       <th>coef</th>     <th>std err</th>      <th>z</th>      <th>P>|z|</th>  <th>[0.025</th>    <th>0.975]</th>  \n",
       "</tr>\n",
       "<tr>\n",
       "  <th>ar.L1</th>  <td>   -0.1412</td> <td>    1.482</td> <td>   -0.095</td> <td> 0.924</td> <td>   -3.045</td> <td>    2.763</td>\n",
       "</tr>\n",
       "<tr>\n",
       "  <th>ma.L1</th>  <td>    0.2657</td> <td>    1.483</td> <td>    0.179</td> <td> 0.858</td> <td>   -2.640</td> <td>    3.171</td>\n",
       "</tr>\n",
       "<tr>\n",
       "  <th>ma.L2</th>  <td>   -0.0084</td> <td>    0.185</td> <td>   -0.045</td> <td> 0.964</td> <td>   -0.370</td> <td>    0.353</td>\n",
       "</tr>\n",
       "<tr>\n",
       "  <th>ma.L3</th>  <td>    0.0211</td> <td>    0.058</td> <td>    0.364</td> <td> 0.716</td> <td>   -0.093</td> <td>    0.135</td>\n",
       "</tr>\n",
       "<tr>\n",
       "  <th>ma.L4</th>  <td>    0.0624</td> <td>    0.055</td> <td>    1.131</td> <td> 0.258</td> <td>   -0.046</td> <td>    0.170</td>\n",
       "</tr>\n",
       "<tr>\n",
       "  <th>ma.L5</th>  <td>   -0.0697</td> <td>    0.093</td> <td>   -0.753</td> <td> 0.452</td> <td>   -0.251</td> <td>    0.112</td>\n",
       "</tr>\n",
       "<tr>\n",
       "  <th>ma.L6</th>  <td>   -0.1087</td> <td>    0.126</td> <td>   -0.864</td> <td> 0.387</td> <td>   -0.355</td> <td>    0.138</td>\n",
       "</tr>\n",
       "<tr>\n",
       "  <th>ma.L7</th>  <td>   -0.0120</td> <td>    0.149</td> <td>   -0.081</td> <td> 0.936</td> <td>   -0.304</td> <td>    0.280</td>\n",
       "</tr>\n",
       "<tr>\n",
       "  <th>ma.L8</th>  <td>    0.0248</td> <td>    0.048</td> <td>    0.511</td> <td> 0.610</td> <td>   -0.070</td> <td>    0.120</td>\n",
       "</tr>\n",
       "<tr>\n",
       "  <th>ma.L9</th>  <td>   -0.0379</td> <td>    0.056</td> <td>   -0.672</td> <td> 0.501</td> <td>   -0.149</td> <td>    0.073</td>\n",
       "</tr>\n",
       "<tr>\n",
       "  <th>ma.L10</th> <td>   -0.0266</td> <td>    0.076</td> <td>   -0.349</td> <td> 0.727</td> <td>   -0.176</td> <td>    0.123</td>\n",
       "</tr>\n",
       "<tr>\n",
       "  <th>ma.L11</th> <td>   -0.0990</td> <td>    0.048</td> <td>   -2.076</td> <td> 0.038</td> <td>   -0.192</td> <td>   -0.006</td>\n",
       "</tr>\n",
       "<tr>\n",
       "  <th>ma.L12</th> <td>   -0.0151</td> <td>    0.151</td> <td>   -0.100</td> <td> 0.920</td> <td>   -0.311</td> <td>    0.281</td>\n",
       "</tr>\n",
       "<tr>\n",
       "  <th>ma.L13</th> <td>    0.0283</td> <td>    0.040</td> <td>    0.714</td> <td> 0.475</td> <td>   -0.049</td> <td>    0.106</td>\n",
       "</tr>\n",
       "<tr>\n",
       "  <th>ma.L14</th> <td>   -0.0249</td> <td>    0.083</td> <td>   -0.301</td> <td> 0.763</td> <td>   -0.187</td> <td>    0.137</td>\n",
       "</tr>\n",
       "<tr>\n",
       "  <th>sigma2</th> <td>  640.3110</td> <td>   15.335</td> <td>   41.754</td> <td> 0.000</td> <td>  610.254</td> <td>  670.368</td>\n",
       "</tr>\n",
       "</table>\n",
       "<table class=\"simpletable\">\n",
       "<tr>\n",
       "  <th>Ljung-Box (L1) (Q):</th>     <td>0.00</td> <th>  Jarque-Bera (JB):  </th> <td>52905.24</td>\n",
       "</tr>\n",
       "<tr>\n",
       "  <th>Prob(Q):</th>                <td>0.99</td> <th>  Prob(JB):          </th>   <td>0.00</td>  \n",
       "</tr>\n",
       "<tr>\n",
       "  <th>Heteroskedasticity (H):</th> <td>3.50</td> <th>  Skew:              </th>   <td>-2.94</td> \n",
       "</tr>\n",
       "<tr>\n",
       "  <th>Prob(H) (two-sided):</th>    <td>0.00</td> <th>  Kurtosis:          </th>   <td>45.21</td> \n",
       "</tr>\n",
       "</table><br/><br/>Warnings:<br/>[1] Covariance matrix calculated using the outer product of gradients (complex-step)."
      ],
      "text/plain": [
       "<class 'statsmodels.iolib.summary.Summary'>\n",
       "\"\"\"\n",
       "                               SARIMAX Results                                \n",
       "==============================================================================\n",
       "Dep. Variable:                  Price   No. Observations:                  700\n",
       "Model:                ARIMA(1, 1, 14)   Log Likelihood               -3250.435\n",
       "Date:                Tue, 05 Jul 2022   AIC                           6532.870\n",
       "Time:                        12:29:21   BIC                           6605.664\n",
       "Sample:                             0   HQIC                          6561.011\n",
       "                                - 700                                         \n",
       "Covariance Type:                  opg                                         \n",
       "==============================================================================\n",
       "                 coef    std err          z      P>|z|      [0.025      0.975]\n",
       "------------------------------------------------------------------------------\n",
       "ar.L1         -0.1412      1.482     -0.095      0.924      -3.045       2.763\n",
       "ma.L1          0.2657      1.483      0.179      0.858      -2.640       3.171\n",
       "ma.L2         -0.0084      0.185     -0.045      0.964      -0.370       0.353\n",
       "ma.L3          0.0211      0.058      0.364      0.716      -0.093       0.135\n",
       "ma.L4          0.0624      0.055      1.131      0.258      -0.046       0.170\n",
       "ma.L5         -0.0697      0.093     -0.753      0.452      -0.251       0.112\n",
       "ma.L6         -0.1087      0.126     -0.864      0.387      -0.355       0.138\n",
       "ma.L7         -0.0120      0.149     -0.081      0.936      -0.304       0.280\n",
       "ma.L8          0.0248      0.048      0.511      0.610      -0.070       0.120\n",
       "ma.L9         -0.0379      0.056     -0.672      0.501      -0.149       0.073\n",
       "ma.L10        -0.0266      0.076     -0.349      0.727      -0.176       0.123\n",
       "ma.L11        -0.0990      0.048     -2.076      0.038      -0.192      -0.006\n",
       "ma.L12        -0.0151      0.151     -0.100      0.920      -0.311       0.281\n",
       "ma.L13         0.0283      0.040      0.714      0.475      -0.049       0.106\n",
       "ma.L14        -0.0249      0.083     -0.301      0.763      -0.187       0.137\n",
       "sigma2       640.3110     15.335     41.754      0.000     610.254     670.368\n",
       "===================================================================================\n",
       "Ljung-Box (L1) (Q):                   0.00   Jarque-Bera (JB):             52905.24\n",
       "Prob(Q):                              0.99   Prob(JB):                         0.00\n",
       "Heteroskedasticity (H):               3.50   Skew:                            -2.94\n",
       "Prob(H) (two-sided):                  0.00   Kurtosis:                        45.21\n",
       "===================================================================================\n",
       "\n",
       "Warnings:\n",
       "[1] Covariance matrix calculated using the outer product of gradients (complex-step).\n",
       "\"\"\""
      ]
     },
     "execution_count": 23,
     "metadata": {},
     "output_type": "execute_result"
    }
   ],
   "source": [
    "model = sm.tsa.arima.ARIMA(train['Price'], order = (1,1,14))\n",
    "model = model.fit()\n",
    "model.summary()"
   ]
  },
  {
   "cell_type": "code",
   "execution_count": 24,
   "id": "c87ae3f7",
   "metadata": {},
   "outputs": [
    {
     "name": "stdout",
     "output_type": "stream",
     "text": [
      "700    898.931587\n",
      "701    896.983419\n",
      "702    895.309506\n",
      "703    894.779411\n",
      "704    896.645485\n",
      "705    899.975671\n",
      "706    898.526844\n",
      "707    899.131517\n",
      "708    899.990558\n",
      "709    900.242675\n",
      "710    901.080810\n",
      "711    900.791843\n",
      "712    900.853312\n",
      "713    900.969168\n",
      "714    900.952808\n",
      "715    900.955118\n",
      "716    900.954792\n",
      "717    900.954838\n",
      "718    900.954831\n",
      "719    900.954832\n",
      "720    900.954832\n",
      "721    900.954832\n",
      "722    900.954832\n",
      "723    900.954832\n",
      "724    900.954832\n",
      "725    900.954832\n",
      "726    900.954832\n",
      "727    900.954832\n",
      "728    900.954832\n",
      "729    900.954832\n",
      "Name: predicted_mean, dtype: float64\n",
      "Date\n",
      "2022-05-25    898.931587\n",
      "2022-05-26    896.983419\n",
      "2022-05-27    895.309506\n",
      "2022-05-30    894.779411\n",
      "2022-05-31    896.645485\n",
      "2022-06-01    899.975671\n",
      "2022-06-02    898.526844\n",
      "2022-06-03    899.131517\n",
      "2022-06-06    899.990558\n",
      "2022-06-07    900.242675\n",
      "2022-06-08    901.080810\n",
      "2022-06-09    900.791843\n",
      "2022-06-10    900.853312\n",
      "2022-06-13    900.969168\n",
      "2022-06-14    900.952808\n",
      "2022-06-15    900.955118\n",
      "2022-06-16    900.954792\n",
      "2022-06-17    900.954838\n",
      "2022-06-19    900.954831\n",
      "2022-06-20    900.954832\n",
      "2022-06-22    900.954832\n",
      "2022-06-23    900.954832\n",
      "2022-06-24    900.954832\n",
      "2022-06-26    900.954832\n",
      "2022-06-27    900.954832\n",
      "2022-06-28    900.954832\n",
      "2022-06-30    900.954832\n",
      "2022-07-01    900.954832\n",
      "2022-07-03    900.954832\n",
      "2022-07-04    900.954832\n",
      "Name: predicted_mean, dtype: float64\n"
     ]
    }
   ],
   "source": [
    "#make predictions on test set\n",
    "start = len(train)\n",
    "end = len(train)+len(test)-1\n",
    "pred = model.predict(start=start, end=end, type = 'levels')\n",
    "print(pred)\n",
    "pred.index= df.index[start:end+1]\n",
    "print(pred)"
   ]
  },
  {
   "cell_type": "code",
   "execution_count": 25,
   "id": "b05436fc",
   "metadata": {},
   "outputs": [
    {
     "data": {
      "text/plain": [
       "<AxesSubplot:xlabel='Date'>"
      ]
     },
     "execution_count": 25,
     "metadata": {},
     "output_type": "execute_result"
    },
    {
     "data": {
      "image/png": "[encoded data removed]",
      "text/plain": [
       "<Figure size 432x288 with 1 Axes>"
      ]
     },
     "metadata": {
      "needs_background": "light"
     },
     "output_type": "display_data"
    }
   ],
   "source": [
    "pred.plot(legend=True)\n",
    "test['Price'].plot(legend=True)"
   ]
  },
  {
   "cell_type": "code",
   "execution_count": 26,
   "id": "7fa0472c",
   "metadata": {},
   "outputs": [
    {
     "data": {
      "text/plain": [
       "836.3966666666668"
      ]
     },
     "execution_count": 26,
     "metadata": {},
     "output_type": "execute_result"
    }
   ],
   "source": [
    "test['Price'].mean()"
   ]
  },
  {
   "cell_type": "code",
   "execution_count": 16,
   "id": "5f5010ec",
   "metadata": {},
   "outputs": [
    {
     "name": "stdout",
     "output_type": "stream",
     "text": [
      "74.81260443063235\n"
     ]
    }
   ],
   "source": [
    "from sklearn.metrics import mean_squared_error\n",
    "from math import sqrt\n",
    "rmse = sqrt(mean_squared_error(pred,test['Price']))\n",
    "print(rmse)"
   ]
  },
  {
   "cell_type": "code",
   "execution_count": 17,
   "id": "e571e58c",
   "metadata": {},
   "outputs": [
    {
     "data": {
      "text/html": [
       "<div>\n",
       "<style scoped>\n",
       "    .dataframe tbody tr th:only-of-type {\n",
       "        vertical-align: middle;\n",
       "    }\n",
       "\n",
       "    .dataframe tbody tr th {\n",
       "        vertical-align: top;\n",
       "    }\n",
       "\n",
       "    .dataframe thead th {\n",
       "        text-align: right;\n",
       "    }\n",
       "</style>\n",
       "<table border=\"1\" class=\"dataframe\">\n",
       "  <thead>\n",
       "    <tr style=\"text-align: right;\">\n",
       "      <th></th>\n",
       "      <th>Price</th>\n",
       "      <th>Change</th>\n",
       "      <th>Max Price</th>\n",
       "      <th>Min Price</th>\n",
       "      <th>Prev Price</th>\n",
       "      <th>Transaction</th>\n",
       "      <th>Volume</th>\n",
       "      <th>Amount</th>\n",
       "    </tr>\n",
       "    <tr>\n",
       "      <th>Date</th>\n",
       "      <th></th>\n",
       "      <th></th>\n",
       "      <th></th>\n",
       "      <th></th>\n",
       "      <th></th>\n",
       "      <th></th>\n",
       "      <th></th>\n",
       "      <th></th>\n",
       "    </tr>\n",
       "  </thead>\n",
       "  <tbody>\n",
       "    <tr>\n",
       "      <th>2022-06-28</th>\n",
       "      <td>778.0</td>\n",
       "      <td>-2.0</td>\n",
       "      <td>794.0</td>\n",
       "      <td>765.0</td>\n",
       "      <td>780.0</td>\n",
       "      <td>564</td>\n",
       "      <td>35763</td>\n",
       "      <td>27883600</td>\n",
       "    </tr>\n",
       "    <tr>\n",
       "      <th>2022-06-30</th>\n",
       "      <td>835.0</td>\n",
       "      <td>40.0</td>\n",
       "      <td>835.0</td>\n",
       "      <td>800.0</td>\n",
       "      <td>795.0</td>\n",
       "      <td>903</td>\n",
       "      <td>46615</td>\n",
       "      <td>38392100</td>\n",
       "    </tr>\n",
       "    <tr>\n",
       "      <th>2022-07-01</th>\n",
       "      <td>856.0</td>\n",
       "      <td>21.0</td>\n",
       "      <td>866.0</td>\n",
       "      <td>833.0</td>\n",
       "      <td>835.0</td>\n",
       "      <td>737</td>\n",
       "      <td>42203</td>\n",
       "      <td>36130100</td>\n",
       "    </tr>\n",
       "    <tr>\n",
       "      <th>2022-07-03</th>\n",
       "      <td>889.0</td>\n",
       "      <td>33.0</td>\n",
       "      <td>890.0</td>\n",
       "      <td>856.0</td>\n",
       "      <td>856.0</td>\n",
       "      <td>994</td>\n",
       "      <td>71068</td>\n",
       "      <td>62471500</td>\n",
       "    </tr>\n",
       "    <tr>\n",
       "      <th>2022-07-04</th>\n",
       "      <td>895.0</td>\n",
       "      <td>6.0</td>\n",
       "      <td>916.0</td>\n",
       "      <td>893.8</td>\n",
       "      <td>889.0</td>\n",
       "      <td>1742</td>\n",
       "      <td>114314</td>\n",
       "      <td>103998000</td>\n",
       "    </tr>\n",
       "  </tbody>\n",
       "</table>\n",
       "</div>"
      ],
      "text/plain": [
       "            Price  Change  Max Price  Min Price  Prev Price  Transaction  \\\n",
       "Date                                                                       \n",
       "2022-06-28  778.0    -2.0      794.0      765.0       780.0          564   \n",
       "2022-06-30  835.0    40.0      835.0      800.0       795.0          903   \n",
       "2022-07-01  856.0    21.0      866.0      833.0       835.0          737   \n",
       "2022-07-03  889.0    33.0      890.0      856.0       856.0          994   \n",
       "2022-07-04  895.0     6.0      916.0      893.8       889.0         1742   \n",
       "\n",
       "            Volume     Amount  \n",
       "Date                           \n",
       "2022-06-28   35763   27883600  \n",
       "2022-06-30   46615   38392100  \n",
       "2022-07-01   42203   36130100  \n",
       "2022-07-03   71068   62471500  \n",
       "2022-07-04  114314  103998000  "
      ]
     },
     "execution_count": 17,
     "metadata": {},
     "output_type": "execute_result"
    }
   ],
   "source": [
    "#retraining model in the entire dataset\n",
    "model2 = sm.tsa.arima.ARIMA(df['Price'], order = (0,1,1))\n",
    "model2 = model2.fit()\n",
    "df.tail()"
   ]
  },
  {
   "cell_type": "code",
   "execution_count": 18,
   "id": "159011ec",
   "metadata": {},
   "outputs": [
    {
     "name": "stdout",
     "output_type": "stream",
     "text": [
      "2022-07-04    895.23791\n",
      "2022-07-05    895.23791\n",
      "2022-07-06    895.23791\n",
      "2022-07-07    895.23791\n",
      "2022-07-08    895.23791\n",
      "2022-07-09    895.23791\n",
      "2022-07-10    895.23791\n",
      "2022-07-11    895.23791\n",
      "2022-07-12    895.23791\n",
      "2022-07-13    895.23791\n",
      "2022-07-14    895.23791\n",
      "2022-07-15    895.23791\n",
      "2022-07-16    895.23791\n",
      "2022-07-17    895.23791\n",
      "2022-07-18    895.23791\n",
      "2022-07-19    895.23791\n",
      "2022-07-20    895.23791\n",
      "2022-07-21    895.23791\n",
      "2022-07-22    895.23791\n",
      "2022-07-23    895.23791\n",
      "2022-07-24    895.23791\n",
      "2022-07-25    895.23791\n",
      "2022-07-26    895.23791\n",
      "2022-07-27    895.23791\n",
      "2022-07-28    895.23791\n",
      "2022-07-29    895.23791\n",
      "2022-07-30    895.23791\n",
      "2022-07-31    895.23791\n",
      "2022-08-01    895.23791\n",
      "2022-08-02    895.23791\n",
      "2022-08-03    895.23791\n",
      "Freq: D, Name: Arima Predictions, dtype: float64\n"
     ]
    }
   ],
   "source": [
    "index_future_dates = pd.date_range(start='2022-07-04', end ='2022-08-03')\n",
    "pred = model2.predict(start=len(df), end = len(df)+30, type = 'levels').rename('Arima Predictions')\n",
    "\n",
    "pred.index = index_future_dates\n",
    "print(pred)"
   ]
  }
 ],
 "metadata": {
  "kernelspec": {
   "display_name": "Python 3 (ipykernel)",
   "language": "python",
   "name": "python3"
  },
  "language_info": {
   "codemirror_mode": {
    "name": "ipython",
    "version": 3
   },
   "file_extension": ".py",
   "mimetype": "text/x-python",
   "name": "python",
   "nbconvert_exporter": "python",
   "pygments_lexer": "ipython3",
   "version": "3.10.4"
  }
 },
 "nbformat": 4,
 "nbformat_minor": 5
}
